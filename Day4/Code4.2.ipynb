{
 "cells": [
  {
   "cell_type": "code",
   "execution_count": 27,
   "metadata": {},
   "outputs": [],
   "source": [
    "import requests\n",
    "import re\n",
    "data = requests.get(\"https://raw.githubusercontent.com/00Dabide/Advent_of_Code_2024/refs/heads/main/Day4/Day4Text.txt\").text.split(\"\\n\")"
   ]
  },
  {
   "cell_type": "code",
   "execution_count": 28,
   "metadata": {},
   "outputs": [],
   "source": [
    "#possibilities:\n",
    "# A is always in the middle\n",
    "# MAS-MAS\n",
    "# SAM-MAS\n",
    "# MAS-SAM\n",
    "# SAM-SAM\n",
    "total_number = 0"
   ]
  },
  {
   "cell_type": "code",
   "execution_count": 29,
   "metadata": {},
   "outputs": [
    {
     "data": {
      "text/plain": [
       "397"
      ]
     },
     "execution_count": 29,
     "metadata": {},
     "output_type": "execute_result"
    }
   ],
   "source": [
    "# MAS-MAS\n",
    "mm_count = 0\n",
    "for rowid,row in enumerate(data):\n",
    "    if rowid < 1 or rowid > 138:\n",
    "        continue\n",
    "    for letterid,letter in enumerate(row):\n",
    "        if letterid < 1 or letterid > 138:\n",
    "            continue\n",
    "        if (letter == \"A\" \n",
    "            and data[rowid-1][letterid-1] == \"M\"\n",
    "            and data[rowid+1][letterid+1] == \"S\"\n",
    "            and data[rowid-1][letterid+1] == \"M\"\n",
    "            and data[rowid+1][letterid-1] == \"S\"):\n",
    "            mm_count += 1\n",
    "            \n",
    "total_number += mm_count\n",
    "mm_count"
   ]
  },
  {
   "cell_type": "code",
   "execution_count": 30,
   "metadata": {},
   "outputs": [
    {
     "data": {
      "text/plain": [
       "489"
      ]
     },
     "execution_count": 30,
     "metadata": {},
     "output_type": "execute_result"
    }
   ],
   "source": [
    "# SAM-MAS\n",
    "sm_count = 0\n",
    "for rowid,row in enumerate(data):\n",
    "    if rowid < 1 or rowid > 138:\n",
    "        continue\n",
    "    for letterid,letter in enumerate(row):\n",
    "        if letterid < 1 or letterid > 138:\n",
    "            continue\n",
    "        if (letter == \"A\" \n",
    "            and data[rowid-1][letterid-1] == \"S\"\n",
    "            and data[rowid+1][letterid+1] == \"M\"\n",
    "            and data[rowid-1][letterid+1] == \"M\"\n",
    "            and data[rowid+1][letterid-1] == \"S\"):\n",
    "            sm_count += 1\n",
    "            \n",
    "total_number += sm_count\n",
    "sm_count"
   ]
  },
  {
   "cell_type": "code",
   "execution_count": 31,
   "metadata": {},
   "outputs": [
    {
     "data": {
      "text/plain": [
       "470"
      ]
     },
     "execution_count": 31,
     "metadata": {},
     "output_type": "execute_result"
    }
   ],
   "source": [
    "# MAS-SAM\n",
    "ms_count = 0\n",
    "for rowid,row in enumerate(data):\n",
    "    if rowid < 1 or rowid > 138:\n",
    "        continue\n",
    "    for letterid,letter in enumerate(row):\n",
    "        if letterid < 1 or letterid > 138:\n",
    "            continue\n",
    "        if (letter == \"A\" \n",
    "            and data[rowid-1][letterid-1] == \"M\"\n",
    "            and data[rowid+1][letterid+1] == \"S\"\n",
    "            and data[rowid-1][letterid+1] == \"S\"\n",
    "            and data[rowid+1][letterid-1] == \"M\"):\n",
    "            ms_count += 1\n",
    "            \n",
    "total_number += ms_count\n",
    "ms_count"
   ]
  },
  {
   "cell_type": "code",
   "execution_count": 32,
   "metadata": {},
   "outputs": [
    {
     "data": {
      "text/plain": [
       "512"
      ]
     },
     "execution_count": 32,
     "metadata": {},
     "output_type": "execute_result"
    }
   ],
   "source": [
    "# SAM-SAM\n",
    "ss_count = 0\n",
    "for rowid,row in enumerate(data):\n",
    "    if rowid < 1 or rowid > 138:\n",
    "        continue\n",
    "    for letterid,letter in enumerate(row):\n",
    "        if letterid < 1 or letterid > 138:\n",
    "            continue\n",
    "        if (letter == \"A\" \n",
    "            and data[rowid-1][letterid-1] == \"S\"\n",
    "            and data[rowid+1][letterid+1] == \"M\"\n",
    "            and data[rowid-1][letterid+1] == \"S\"\n",
    "            and data[rowid+1][letterid-1] == \"M\"):\n",
    "            ss_count += 1\n",
    "            \n",
    "total_number += ss_count\n",
    "ss_count"
   ]
  },
  {
   "cell_type": "code",
   "execution_count": 33,
   "metadata": {},
   "outputs": [
    {
     "data": {
      "text/plain": [
       "1868"
      ]
     },
     "execution_count": 33,
     "metadata": {},
     "output_type": "execute_result"
    }
   ],
   "source": [
    "total_number"
   ]
  }
 ],
 "metadata": {
  "kernelspec": {
   "display_name": "Python 3",
   "language": "python",
   "name": "python3"
  },
  "language_info": {
   "codemirror_mode": {
    "name": "ipython",
    "version": 3
   },
   "file_extension": ".py",
   "mimetype": "text/x-python",
   "name": "python",
   "nbconvert_exporter": "python",
   "pygments_lexer": "ipython3",
   "version": "3.12.8"
  }
 },
 "nbformat": 4,
 "nbformat_minor": 2
}

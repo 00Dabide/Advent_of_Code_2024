{
 "cells": [
  {
   "cell_type": "code",
   "execution_count": 173,
   "metadata": {},
   "outputs": [],
   "source": [
    "import requests\n",
    "import re\n",
    "data = requests.get(\"https://raw.githubusercontent.com/00Dabide/Advent_of_Code_2024/refs/heads/main/Day4/Day4Text.txt\").text.split(\"\\n\")"
   ]
  },
  {
   "cell_type": "code",
   "execution_count": 174,
   "metadata": {},
   "outputs": [],
   "source": [
    "#possibilities:\n",
    "#left-right\n",
    "#right-left\n",
    "#top-bottom\n",
    "#bottom-top\n",
    "#topdiagonal left-right\n",
    "#topdiagonal right to left\n",
    "#bottomdiagonal left to right\n",
    "#bottomdiagonal right to left\n",
    "\n",
    "total_number = 0"
   ]
  },
  {
   "cell_type": "code",
   "execution_count": 175,
   "metadata": {},
   "outputs": [
    {
     "data": {
      "text/plain": [
       "187"
      ]
     },
     "execution_count": 175,
     "metadata": {},
     "output_type": "execute_result"
    }
   ],
   "source": [
    "#left-right\n",
    "lr_count = 0\n",
    "lrpattern = r\"XMAS\"\n",
    "for row in data:\n",
    "    lr = re.findall(lrpattern, row)\n",
    "    lr_count += len(lr)\n",
    "\n",
    "total_number += lr_count\n",
    "lr_count"
   ]
  },
  {
   "cell_type": "code",
   "execution_count": 176,
   "metadata": {},
   "outputs": [
    {
     "data": {
      "text/plain": [
       "201"
      ]
     },
     "execution_count": 176,
     "metadata": {},
     "output_type": "execute_result"
    }
   ],
   "source": [
    "#right-left\n",
    "rl_count = 0\n",
    "rlpattern = r\"SAMX\"\n",
    "for row in data:\n",
    "    rl = re.findall(rlpattern, row)\n",
    "    rl_count += len(rl)\n",
    "\n",
    "total_number += rl_count\n",
    "rl_count"
   ]
  },
  {
   "cell_type": "code",
   "execution_count": 177,
   "metadata": {},
   "outputs": [
    {
     "data": {
      "text/plain": [
       "227"
      ]
     },
     "execution_count": 177,
     "metadata": {},
     "output_type": "execute_result"
    }
   ],
   "source": [
    "#top-bottom\n",
    "tb_count = 0\n",
    "for rowid,row in enumerate(data):\n",
    "    if rowid > len(data)-4:\n",
    "        continue\n",
    "    for letterid,letter in enumerate(row):\n",
    "        if (letter == \"X\" \n",
    "            and data[rowid+1][letterid] == \"M\"\n",
    "            and data[rowid+2][letterid] == \"A\"\n",
    "            and data[rowid+3][letterid] == \"S\"):\n",
    "            tb_count += 1\n",
    "            \n",
    "total_number += tb_count\n",
    "tb_count"
   ]
  },
  {
   "cell_type": "code",
   "execution_count": 178,
   "metadata": {},
   "outputs": [
    {
     "data": {
      "text/plain": [
       "220"
      ]
     },
     "execution_count": 178,
     "metadata": {},
     "output_type": "execute_result"
    }
   ],
   "source": [
    "#bottom-top\n",
    "bt_count = 0\n",
    "for rowid,row in enumerate(data):\n",
    "    if rowid < 3:\n",
    "        continue\n",
    "    for letterid,letter in enumerate(row):\n",
    "        if (letter == \"X\" \n",
    "            and data[rowid-1][letterid] == \"M\"\n",
    "            and data[rowid-2][letterid] == \"A\"\n",
    "            and data[rowid-3][letterid] == \"S\"):\n",
    "            bt_count += 1\n",
    "            \n",
    "total_number += bt_count\n",
    "bt_count"
   ]
  },
  {
   "cell_type": "code",
   "execution_count": 179,
   "metadata": {},
   "outputs": [
    {
     "data": {
      "text/plain": [
       "427"
      ]
     },
     "execution_count": 179,
     "metadata": {},
     "output_type": "execute_result"
    }
   ],
   "source": [
    "#topdiagonal left-right\n",
    "tdlr_count = 0\n",
    "for rowid,row in enumerate(data): \n",
    "    if rowid < 3:\n",
    "        continue\n",
    "    for letterid,letter in enumerate(data[rowid]):\n",
    "        if letterid > len(data[rowid])-4:\n",
    "            continue\n",
    "        if (letter == \"X\" \n",
    "            and data[rowid-1][letterid+1] == \"M\"\n",
    "            and data[rowid-2][letterid+2] == \"A\"\n",
    "            and data[rowid-3][letterid+3] == \"S\"):\n",
    "            tdlr_count += 1\n",
    "            \n",
    "total_number += tdlr_count\n",
    "tdlr_count"
   ]
  },
  {
   "cell_type": "code",
   "execution_count": 180,
   "metadata": {},
   "outputs": [
    {
     "data": {
      "text/plain": [
       "468"
      ]
     },
     "execution_count": 180,
     "metadata": {},
     "output_type": "execute_result"
    }
   ],
   "source": [
    "#topdiagonal right to left\n",
    "tdrl_count = 0\n",
    "for rowid,row in enumerate(data): \n",
    "    if rowid < 3:\n",
    "        continue\n",
    "    for letterid,letter in enumerate(data[rowid]):\n",
    "        if letterid < 3:\n",
    "            continue\n",
    "        if (letter == \"X\" \n",
    "            and data[rowid-1][letterid-1] == \"M\"\n",
    "            and data[rowid-2][letterid-2] == \"A\"\n",
    "            and data[rowid-3][letterid-3] == \"S\"):\n",
    "            tdrl_count += 1\n",
    "            \n",
    "total_number += tdrl_count\n",
    "tdrl_count"
   ]
  },
  {
   "cell_type": "code",
   "execution_count": 181,
   "metadata": {},
   "outputs": [],
   "source": [
    "#bottomdiagonal left to right\n",
    "bdlr_count = 0\n",
    "for rowid,row in enumerate(data):\n",
    "    if rowid > 136:\n",
    "        continue\n",
    "    for letterid,letter in enumerate(data[rowid]):\n",
    "        if letterid > len(data[rowid])-4:\n",
    "            continue\n",
    "        if (letter == \"X\" \n",
    "            and data[rowid+1][letterid+1] == \"M\"\n",
    "            and data[rowid+2][letterid+2] == \"A\"\n",
    "            and data[rowid+3][letterid+3] == \"S\"):\n",
    "            bdlr_count += 1\n",
    "            \n",
    "total_number += bdlr_count"
   ]
  },
  {
   "cell_type": "code",
   "execution_count": 182,
   "metadata": {},
   "outputs": [],
   "source": [
    "#bottomdiagonal right to left\n",
    "bdrl_count = 0\n",
    "for rowid,row in enumerate(data):\n",
    "    if rowid > 136:\n",
    "        continue\n",
    "    for letterid,letter in enumerate(data[rowid]):\n",
    "        if letterid < 3:\n",
    "            continue\n",
    "        if (letter == \"X\" \n",
    "            and data[rowid+1][letterid-1] == \"M\"\n",
    "            and data[rowid+2][letterid-2] == \"A\"\n",
    "            and data[rowid+3][letterid-3] == \"S\"):\n",
    "            bdrl_count += 1\n",
    "            \n",
    "total_number += bdrl_count"
   ]
  },
  {
   "cell_type": "code",
   "execution_count": 183,
   "metadata": {},
   "outputs": [
    {
     "data": {
      "text/plain": [
       "2447"
      ]
     },
     "execution_count": 183,
     "metadata": {},
     "output_type": "execute_result"
    }
   ],
   "source": [
    "total_number"
   ]
  },
  {
   "cell_type": "code",
   "execution_count": null,
   "metadata": {},
   "outputs": [],
   "source": []
  }
 ],
 "metadata": {
  "kernelspec": {
   "display_name": "Python 3",
   "language": "python",
   "name": "python3"
  },
  "language_info": {
   "codemirror_mode": {
    "name": "ipython",
    "version": 3
   },
   "file_extension": ".py",
   "mimetype": "text/x-python",
   "name": "python",
   "nbconvert_exporter": "python",
   "pygments_lexer": "ipython3",
   "version": "3.12.8"
  }
 },
 "nbformat": 4,
 "nbformat_minor": 2
}

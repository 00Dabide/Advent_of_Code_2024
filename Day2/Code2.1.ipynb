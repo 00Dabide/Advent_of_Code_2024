{
 "cells": [
  {
   "cell_type": "code",
   "execution_count": 162,
   "metadata": {},
   "outputs": [],
   "source": [
    "import requests"
   ]
  },
  {
   "cell_type": "code",
   "execution_count": 163,
   "metadata": {},
   "outputs": [],
   "source": [
    "data = requests.get(\"https://raw.githubusercontent.com/00Dabide/Advent_of_Code_2024/refs/heads/main/Day2/Day2Text.txt\").text.split(\"\\n\")"
   ]
  },
  {
   "cell_type": "code",
   "execution_count": 164,
   "metadata": {},
   "outputs": [],
   "source": [
    "for row in range(0,len(data)):\n",
    "    data[row] = data[row].split()"
   ]
  },
  {
   "cell_type": "code",
   "execution_count": 165,
   "metadata": {},
   "outputs": [],
   "source": [
    "#make a function, whether the level is continously increasing or decrasing\n",
    "def is_continous(difference, increase):\n",
    "    if increase and difference < 0:\n",
    "        return True\n",
    "    elif not increase and difference > 0:\n",
    "        return True\n",
    "    else:\n",
    "        return False"
   ]
  },
  {
   "cell_type": "code",
   "execution_count": null,
   "metadata": {},
   "outputs": [],
   "source": [
    "is_safe_list = []\n",
    "\n",
    "for report in data:\n",
    "    #decrease or increase?\n",
    "    is_increase = (int(report[0]) - int(report[1])) < 0\n",
    "\n",
    "    is_first_level = True\n",
    "    safe_report = True\n",
    "    for level in report:\n",
    "        #if it's the first level, skip it\n",
    "        if is_first_level == True:\n",
    "            prev_level = level\n",
    "            is_first_level = False\n",
    "            continue\n",
    "        \n",
    "        #if it's continously dec/increasing and within bound, don't change anything, else it's not safe\n",
    "        diff = int(prev_level) - int(level)\n",
    "        if abs(diff) >= 1 and abs(diff) <= 3 and is_continous(diff, is_increase):\n",
    "            prev_level = level\n",
    "            continue\n",
    "        else:\n",
    "            safe_report = False\n",
    "            break\n",
    "\n",
    "    is_safe_list.append(safe_report)\n",
    "        "
   ]
  },
  {
   "cell_type": "code",
   "execution_count": 167,
   "metadata": {},
   "outputs": [
    {
     "data": {
      "text/plain": [
       "663"
      ]
     },
     "execution_count": 167,
     "metadata": {},
     "output_type": "execute_result"
    }
   ],
   "source": [
    "sum(is_safe_list)"
   ]
  }
 ],
 "metadata": {
  "kernelspec": {
   "display_name": "Python 3",
   "language": "python",
   "name": "python3"
  },
  "language_info": {
   "codemirror_mode": {
    "name": "ipython",
    "version": 3
   },
   "file_extension": ".py",
   "mimetype": "text/x-python",
   "name": "python",
   "nbconvert_exporter": "python",
   "pygments_lexer": "ipython3",
   "version": "3.12.8"
  }
 },
 "nbformat": 4,
 "nbformat_minor": 2
}

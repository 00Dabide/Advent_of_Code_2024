{
 "cells": [
  {
   "cell_type": "code",
   "execution_count": 67,
   "metadata": {},
   "outputs": [],
   "source": [
    "import requests"
   ]
  },
  {
   "cell_type": "code",
   "execution_count": 68,
   "metadata": {},
   "outputs": [],
   "source": [
    "#get data\n",
    "data = requests.get(\"https://raw.githubusercontent.com/00Dabide/Advent_of_Code_2024/refs/heads/main/Day1/Day1Text.txt\").text.split(\"\\n\")"
   ]
  },
  {
   "cell_type": "code",
   "execution_count": 69,
   "metadata": {},
   "outputs": [],
   "source": [
    "#put pairs to a list\n",
    "for row in range(0,len(data)):\n",
    "    data[row] = data[row].split()"
   ]
  },
  {
   "cell_type": "code",
   "execution_count": 70,
   "metadata": {},
   "outputs": [],
   "source": [
    "#make two lists for the two rows\n",
    "left_values = []\n",
    "right_values = []\n",
    "\n",
    "for pair in data:\n",
    "    #get the two ID\n",
    "    id1 = int(pair[0])\n",
    "    id2 = int(pair[1])\n",
    "\n",
    "    #put them in the lists\n",
    "    left_values.append(id1)\n",
    "    right_values.append(id2)\n",
    "\n",
    "#sort values\n",
    "left_values.sort()\n",
    "right_values.sort()"
   ]
  },
  {
   "cell_type": "code",
   "execution_count": 71,
   "metadata": {},
   "outputs": [],
   "source": [
    "distance_values = []\n",
    "\n",
    "for row in range(0,len(data)):\n",
    "    left_id = left_values[row]\n",
    "    right_id = right_values[row]\n",
    "\n",
    "    distance = abs(left_id - right_id)\n",
    "    distance_values.append(distance)"
   ]
  },
  {
   "cell_type": "code",
   "execution_count": 72,
   "metadata": {},
   "outputs": [
    {
     "data": {
      "text/plain": [
       "1189304"
      ]
     },
     "execution_count": 72,
     "metadata": {},
     "output_type": "execute_result"
    }
   ],
   "source": [
    "sum(distance_values)"
   ]
  }
 ],
 "metadata": {
  "kernelspec": {
   "display_name": "Python 3",
   "language": "python",
   "name": "python3"
  },
  "language_info": {
   "codemirror_mode": {
    "name": "ipython",
    "version": 3
   },
   "file_extension": ".py",
   "mimetype": "text/x-python",
   "name": "python",
   "nbconvert_exporter": "python",
   "pygments_lexer": "ipython3",
   "version": "3.12.8"
  }
 },
 "nbformat": 4,
 "nbformat_minor": 2
}

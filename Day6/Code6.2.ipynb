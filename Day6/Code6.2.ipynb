{
 "cells": [
  {
   "cell_type": "code",
   "execution_count": 1,
   "metadata": {},
   "outputs": [],
   "source": [
    "import requests\n",
    "data = requests.get(\"https://raw.githubusercontent.com/00Dabide/Advent_of_Code_2024/refs/heads/main/Day6/Day6Text.txt\").text.split(\"\\n\")"
   ]
  },
  {
   "cell_type": "code",
   "execution_count": 2,
   "metadata": {},
   "outputs": [
    {
     "data": {
      "text/plain": [
       "[71, 48]"
      ]
     },
     "execution_count": 2,
     "metadata": {},
     "output_type": "execute_result"
    }
   ],
   "source": [
    "#get guard's position\n",
    "for rowid, row in enumerate(data):\n",
    "    for letterid, letter in enumerate(row):\n",
    "        if letter == \"^\":\n",
    "            guard_pos = [rowid, letterid]\n",
    "\n",
    "guard_pos"
   ]
  },
  {
   "cell_type": "code",
   "execution_count": 3,
   "metadata": {},
   "outputs": [],
   "source": [
    "#make maze to a list\n",
    "for rowid, row in enumerate(data):\n",
    "    data[rowid] = list(row)"
   ]
  },
  {
   "cell_type": "code",
   "execution_count": 4,
   "metadata": {},
   "outputs": [],
   "source": [
    "#define the moveset\n",
    "\n",
    "def move(direction, init_position):\n",
    "    global guard_pos\n",
    "    prev_position = init_position\n",
    "\n",
    "    if direction == \"up\":\n",
    "        data[init_position[0] - 1][init_position[1]] = \"^\"\n",
    "        new_pos = [init_position[0] - 1, init_position[1]]\n",
    "    elif direction == \"right\":\n",
    "        data[init_position[0]][init_position[1] + 1] = \">\"\n",
    "        new_pos = [init_position[0], init_position[1] + 1]\n",
    "    elif direction == \"down\":\n",
    "        data[init_position[0] + 1][init_position[1]] = \"V\"\n",
    "        new_pos = [init_position[0] + 1, init_position[1]]\n",
    "    elif direction == \"left\":\n",
    "        data[init_position[0]][init_position[1] - 1] = \"<\"\n",
    "        new_pos = [init_position[0], init_position[1] - 1]\n",
    "\n",
    "    #leave an X\n",
    "    data[prev_position[0]][prev_position[1]] = \"X\"\n",
    "\n",
    "    #have guard a new position\n",
    "    guard_pos = new_pos\n",
    "\n",
    "#define turning\n",
    "directions = [\"up\", \"right\", \"down\", \"left\"]\n",
    "direction_num = 0\n",
    "def turn():\n",
    "    global direction_num\n",
    "    if direction_num == 3:\n",
    "        direction_num = 0\n",
    "    else:\n",
    "        direction_num += 1\n",
    "\n",
    "#define collision detection\n",
    "def collision(check_direction, position):\n",
    "    init_position = position\n",
    "\n",
    "    if check_direction == \"up\" and data[init_position[0] - 1][init_position[1]] in [\"#\", \"O\"]:\n",
    "        return True\n",
    "    elif check_direction == \"right\" and data[init_position[0]][init_position[1] + 1] in [\"#\", \"O\"]:\n",
    "        return True\n",
    "    elif check_direction == \"down\" and data[init_position[0] + 1][init_position[1]] in [\"#\", \"O\"]:\n",
    "        return True\n",
    "    elif check_direction == \"left\" and data[init_position[0]][init_position[1] - 1] in [\"#\", \"O\"]:\n",
    "        return True\n",
    "    else:\n",
    "        return False"
   ]
  },
  {
   "cell_type": "code",
   "execution_count": 7,
   "metadata": {},
   "outputs": [],
   "source": [
    "#commands\n",
    "while guard_pos[0] >= 0 and guard_pos[0] <= len(data)-1 and guard_pos[1] >= 0 and guard_pos[1] <= len(data[0])-1:\n",
    "    try:\n",
    "        if collision(directions[direction_num], guard_pos):\n",
    "            turn()\n",
    "            continue\n",
    "        else:\n",
    "            move(directions[direction_num], guard_pos)\n",
    "    except IndexError:\n",
    "        break      "
   ]
  },
  {
   "cell_type": "code",
   "execution_count": 8,
   "metadata": {},
   "outputs": [
    {
     "data": {
      "text/plain": [
       "4964"
      ]
     },
     "execution_count": 8,
     "metadata": {},
     "output_type": "execute_result"
    }
   ],
   "source": [
    "number_of_X = 0\n",
    "for rowid, row in enumerate(data):\n",
    "    for letterid, letter in enumerate(row):\n",
    "        if letter == \"X\":\n",
    "            number_of_X += 1\n",
    "\n",
    "#add +1 because out of bound\n",
    "number_of_X + 1"
   ]
  }
 ],
 "metadata": {
  "kernelspec": {
   "display_name": "Python 3",
   "language": "python",
   "name": "python3"
  },
  "language_info": {
   "codemirror_mode": {
    "name": "ipython",
    "version": 3
   },
   "file_extension": ".py",
   "mimetype": "text/x-python",
   "name": "python",
   "nbconvert_exporter": "python",
   "pygments_lexer": "ipython3",
   "version": "3.12.8"
  }
 },
 "nbformat": 4,
 "nbformat_minor": 2
}

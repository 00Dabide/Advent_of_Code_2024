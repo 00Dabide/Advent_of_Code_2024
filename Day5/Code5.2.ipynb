{
 "cells": [
  {
   "cell_type": "code",
   "execution_count": 68,
   "metadata": {},
   "outputs": [],
   "source": [
    "import requests\n",
    "import math\n",
    "data = requests.get(\"https://raw.githubusercontent.com/00Dabide/Advent_of_Code_2024/refs/heads/main/Day5/Day5Text.txt\").text.split(\"\\n\")"
   ]
  },
  {
   "cell_type": "code",
   "execution_count": 69,
   "metadata": {},
   "outputs": [],
   "source": [
    "#seperate the rules and printings side of the data\n",
    "rules = data[:data.index(\"\")]\n",
    "printings = data[data.index(\"\")+1:]"
   ]
  },
  {
   "cell_type": "code",
   "execution_count": 70,
   "metadata": {},
   "outputs": [],
   "source": [
    "#format the rules so I can work with it\n",
    "for rowid,row in enumerate(rules):\n",
    "    rules[rowid] = row.split(\"|\")"
   ]
  },
  {
   "cell_type": "code",
   "execution_count": 71,
   "metadata": {},
   "outputs": [],
   "source": [
    "#format the printings so I can work with it\n",
    "for rowid,row in enumerate(printings):\n",
    "    printings[rowid] = row.split(\",\")"
   ]
  },
  {
   "cell_type": "code",
   "execution_count": 72,
   "metadata": {},
   "outputs": [],
   "source": [
    "#make a dictionary of the rules (aggregate for each number)\n",
    "rules_dict = {}\n",
    "\n",
    "for rule in rules:\n",
    "    if int(rule[0]) not in rules_dict:\n",
    "        rules_dict[int(rule[0])] = [int(rule[1])]\n",
    "    else:\n",
    "        rules_dict[int(rule[0])].append(int(rule[1]))"
   ]
  },
  {
   "cell_type": "code",
   "execution_count": 73,
   "metadata": {},
   "outputs": [],
   "source": [
    "not_printable = []\n",
    "for sequence in printings:\n",
    "    \n",
    "    can_print = True\n",
    "\n",
    "    for pageid,page in enumerate(sequence):\n",
    "        if not can_print:\n",
    "            break\n",
    "\n",
    "        pages_before = sequence[:pageid]\n",
    "        pages_after = sequence[pageid+1:]\n",
    "\n",
    "        #check if there are no pages before which should be printed after\n",
    "        for bef_page in pages_before:\n",
    "            if int(bef_page) in rules_dict[int(page)]:\n",
    "                can_print = False\n",
    "\n",
    "    if not can_print:\n",
    "        not_printable.append(sequence)"
   ]
  },
  {
   "cell_type": "code",
   "execution_count": 74,
   "metadata": {},
   "outputs": [],
   "source": [
    "def can_be_printed(sequence):\n",
    "    can_print = True\n",
    "\n",
    "    for pageid,page in enumerate(sequence):\n",
    "        if not can_print:\n",
    "            break\n",
    "\n",
    "        pages_before = sequence[:pageid]\n",
    "\n",
    "        #check if there are no pages before which should be printed after\n",
    "        for bef_page in pages_before:\n",
    "            if int(bef_page) in rules_dict[int(page)]:\n",
    "                can_print = False\n",
    "\n",
    "    return can_print"
   ]
  },
  {
   "cell_type": "code",
   "execution_count": 75,
   "metadata": {},
   "outputs": [],
   "source": [
    "for sequence in not_printable:\n",
    "\n",
    "    while not can_be_printed(sequence):\n",
    "        should_break = False\n",
    "        for pageid,page in enumerate(sequence):\n",
    "                if should_break:\n",
    "                     break\n",
    "                \n",
    "                pages_before = sequence[:pageid]\n",
    "\n",
    "                #check if there are no pages before which should be printed after\n",
    "                for bef_pageid,bef_page in enumerate(pages_before):\n",
    "                    if int(bef_page) in rules_dict[int(page)]:\n",
    "                        sequence[bef_pageid] = page\n",
    "                        sequence[pageid] = bef_page\n",
    "                        should_break = True\n",
    "                        break"
   ]
  },
  {
   "cell_type": "code",
   "execution_count": 76,
   "metadata": {},
   "outputs": [],
   "source": [
    "middle_values_sum = 0\n",
    "for sequence in not_printable:\n",
    "    middle_values_sum += int(sequence[math.ceil(len(sequence)/2)-1])"
   ]
  },
  {
   "cell_type": "code",
   "execution_count": 77,
   "metadata": {},
   "outputs": [
    {
     "data": {
      "text/plain": [
       "4884"
      ]
     },
     "execution_count": 77,
     "metadata": {},
     "output_type": "execute_result"
    }
   ],
   "source": [
    "middle_values_sum"
   ]
  }
 ],
 "metadata": {
  "kernelspec": {
   "display_name": "Python 3",
   "language": "python",
   "name": "python3"
  },
  "language_info": {
   "codemirror_mode": {
    "name": "ipython",
    "version": 3
   },
   "file_extension": ".py",
   "mimetype": "text/x-python",
   "name": "python",
   "nbconvert_exporter": "python",
   "pygments_lexer": "ipython3",
   "version": "3.12.8"
  }
 },
 "nbformat": 4,
 "nbformat_minor": 2
}
